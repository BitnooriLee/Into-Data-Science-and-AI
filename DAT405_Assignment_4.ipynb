{
  "nbformat": 4,
  "nbformat_minor": 0,
  "metadata": {
    "colab": {
      "name": "DAT405 Assignment 4.ipynb",
      "provenance": [],
      "collapsed_sections": [],
      "authorship_tag": "ABX9TyPIX/WyXXz87FAG7YUSf0M6",
      "include_colab_link": true
    },
    "kernelspec": {
      "name": "python3",
      "display_name": "Python 3"
    },
    "language_info": {
      "name": "python"
    }
  },
  "cells": [
    {
      "cell_type": "markdown",
      "metadata": {
        "id": "view-in-github",
        "colab_type": "text"
      },
      "source": [
        "<a href=\"https://colab.research.google.com/github/BitnooriLee/Into-Data-Science-and-AI/blob/main/DAT405_Assignment_4.ipynb\" target=\"_parent\"><img src=\"https://colab.research.google.com/assets/colab-badge.svg\" alt=\"Open In Colab\"/></a>"
      ]
    },
    {
      "cell_type": "markdown",
      "source": [
        "DAT405/DIT406 Introduction to Data Science and AI\n",
        "\n",
        "# Assignment 4: Spam classification using Naïve Bayes\n",
        "**Group 53 Bitnoori Lee **\n",
        "\n",
        "Work hours : Bitnoori Lee (20hours) "
      ],
      "metadata": {
        "id": "UnD1ch57n2GL"
      }
    },
    {
      "cell_type": "code",
      "source": [
        "#Import scikit-learn dataset library\n",
        "from sklearn import datasets\n",
        "\n",
        "# Import train_test_split function\n",
        "from sklearn.model_selection import train_test_split\n",
        "\n",
        "#Import Gaussian Naive Bayes model\n",
        "from sklearn.naive_bayes import GaussianNB\n",
        "\n",
        "#Import scikit-learn metrics module for accuracy calculation\n",
        "from sklearn import metrics\n",
        "\n",
        "\n",
        "from sklearn.feature_extraction.text import CountVectorizer\n",
        "\n",
        "\n",
        "# the actual classification algorithm\n",
        "from sklearn.naive_bayes import MultinomialNB\n",
        "from sklearn.naive_bayes import BernoulliNB\n",
        "\n",
        "# for converting training and test datasets into matrices\n",
        "# TfidfVectorizer does this specifically for documents\n",
        "from sklearn.feature_extraction.text import TfidfVectorizer\n",
        "\n",
        "# for bundling the vectorizer and the classifier as a single \"package\"\n",
        "from sklearn.pipeline import make_pipeline\n",
        "\n",
        "# for evaluating the quality of the classifier\n",
        "from sklearn.metrics import accuracy_score\n",
        "\n",
        "import numpy as np\n",
        "\n",
        "import matplotlib.pyplot as plt\n",
        "from sklearn.metrics import plot_confusion_matrix\n",
        "\n",
        "import matplotlib.pyplot as plt\n",
        "\n",
        "from sklearn.metrics import accuracy_score, precision_recall_fscore_support\n",
        "from sklearn.metrics import confusion_matrix\n",
        "from sklearn.metrics import classification_report\n"
      ],
      "metadata": {
        "id": "4UrFeOKDnzGK"
      },
      "execution_count": null,
      "outputs": []
    },
    {
      "cell_type": "markdown",
      "source": [
        "#Task 1. Preprocessing\n",
        "\n",
        "#A \n",
        "\n",
        "Load the text data into your Python program. Hint: look at the documentation for the sklearn.datasets.load_files function. Hint 2: use encoding=”latin-1”. Investigate how many emails are in each category and note this in your report.\n",
        "\n",
        "-> I have imported datasets of easy_ham, hard_ham, spam class. \n",
        "\n",
        "-> The number of emails in each category is \n",
        "\n",
        "*  the number of emails in the category easy_ham : 2553 \n",
        "*  the number of emails in the category hard_ham : 264 \n",
        "*  the number of emails in the category spam : 511\n",
        "\n",
        "and I found it by checking the length of that array containing text of emails, easy_ham['data'] for example."
      ],
      "metadata": {
        "id": "AmaIBPsYv83O"
      }
    },
    {
      "cell_type": "code",
      "source": [
        "# Import Data set\n",
        "from google.colab import drive\n",
        "drive.mount('/content/gdrive')\n",
        "root = '/content/gdrive/My Drive/DAT405/assignment4'\n",
        "from copy import deepcopy\n",
        "\n",
        "# Load the first 3 data into Python program \n",
        "easy_ham = datasets.load_files(root, description=None, categories='easy_ham', load_content=True, shuffle=True, encoding='latin-1', decode_error='strict', random_state=0)\n",
        "hard_ham = datasets.load_files(root, description=None, categories='hard_ham', load_content=True, shuffle=True, encoding='latin-1', decode_error='strict', random_state=0)\n",
        "spam = datasets.load_files(root, description=None, categories='spam', load_content=True, shuffle=True, encoding='latin-1', decode_error='strict', random_state=0)\n",
        "\n",
        "# copy the data for later use \n",
        "new_spam = deepcopy(spam)\n",
        "new_hard_ham = deepcopy(hard_ham)\n",
        "new_easy_ham = deepcopy(easy_ham)\n",
        "\n",
        "# copy the data for late use \n",
        "\n",
        "new_spam_2 = deepcopy(new_spam)\n",
        "new_hard_ham_2 = deepcopy(new_hard_ham)\n",
        "new_easy_ham_2 = deepcopy(new_easy_ham)\n",
        "\n",
        "len(easy_ham['data'])\n",
        "len(hard_ham['data'])\n",
        "len(spam['data'])\n",
        "\n",
        "print('the number of emails in the category easy_ham :',len(easy_ham['data']))\n",
        "print('the number of emails in the category hard_ham :',len(hard_ham['data']))\n",
        "print('the number of emails in the category spam :',len(spam['data']))\n"
      ],
      "metadata": {
        "colab": {
          "base_uri": "https://localhost:8080/"
        },
        "id": "mLc7IF6GpT9a",
        "outputId": "e2d288aa-c817-47d0-dace-30a2e521e1ce"
      },
      "execution_count": null,
      "outputs": [
        {
          "output_type": "stream",
          "name": "stdout",
          "text": [
            "Drive already mounted at /content/gdrive; to attempt to forcibly remount, call drive.mount(\"/content/gdrive\", force_remount=True).\n",
            "the number of emails in the category easy_ham : 2553\n",
            "the number of emails in the category hard_ham : 264\n",
            "the number of emails in the category spam : 511\n"
          ]
        }
      ]
    },
    {
      "cell_type": "code",
      "source": [
        "#Filtering header and footer \n",
        "  \n",
        "sep_header = 'Subject:'\n",
        "sep_footer = '== '\n",
        "\n",
        "\n",
        "spam_header_removed = [i.split(sep_header, 1)[-1] for i in spam['data']]\n",
        "spam_footer_removed = [i.split(sep_footer , 1)[0] for i in spam_header_removed]\n",
        "\n",
        "hard_ham_header_removed = [i.split(sep_header, 1)[-1] for i in hard_ham['data']]\n",
        "hard_ham_footer_removed = [i.split(sep_footer , 1)[0] for i in hard_ham_header_removed]\n",
        "\n",
        "\n",
        "easy_ham_header_removed = [i.split(sep_header, 1)[-1] for i in easy_ham['data']]\n",
        "easy_ham_footer_removed = [i.split(sep_footer , 1)[0] for i in easy_ham_header_removed]\n",
        "    "
      ],
      "metadata": {
        "id": "OOcEFd5-PtOI"
      },
      "execution_count": null,
      "outputs": []
    },
    {
      "cell_type": "markdown",
      "source": [
        "#B\t\n",
        "\n",
        "We don’t want to train and test on the same data. Split the spam and the ham datasets in a training set and a test set. Hint: look at the documentation for sklearn’s train_test_split() function.\n",
        "\n",
        "-> I have split the dataset of both spam and ham which includes easy_ham and hard_ham this time.\n",
        "\n",
        "-> And then split dataset int to the training set and test set using train_test_split() function with test_size=0.3 which means we use 30% of the data for testing. Also, the random_state argument is set for reproducibility, so that we get the same train/test split every time we run the notebook.\n"
      ],
      "metadata": {
        "id": "raCuevxsCNEE"
      }
    },
    {
      "cell_type": "markdown",
      "source": [
        "# Split datasets to train and test before labeling"
      ],
      "metadata": {
        "id": "5aXKH0fYq1y_"
      }
    },
    {
      "cell_type": "code",
      "source": [
        "# Preparing input datasets \n",
        "\n",
        "spam_train, spam_test = train_test_split(new_spam.data, test_size=0.3, random_state=12000)\n",
        "ham_train, ham_test = train_test_split(np.concatenate((new_easy_ham.data, new_hard_ham.data), axis=0),  test_size=0.3, random_state=12000)\n",
        "\n",
        "#realse memory \n",
        "new_spam.data = []\n",
        "new_easy_ham.data = []\n",
        "new_hard_ham.data = []"
      ],
      "metadata": {
        "id": "WGBAvrFgg5wB"
      },
      "execution_count": null,
      "outputs": []
    },
    {
      "cell_type": "markdown",
      "source": [
        "#Task 2. \n",
        "\n",
        "For this question you will write a function in Python with the following name and arguments: \n",
        "\n",
        "\n",
        "def run_naiveBayes(ham_train, ham_test, spam_train, spam_test):\n",
        "\n",
        "-> To satisfy structures(arguments) of the function given I have put labeling and all the following process inside the function.\n",
        "\n",
        "#A ,B ,C\n",
        "-> all the words in the training data but not testing data for each of the classes to fit the vectorizer. \n",
        "And then, the documents were transformed to matrix format using the previous fitted vectorizer. \n",
        "We also tested two of these classifiers 1. Multinomial Naive Bayes and 2. Bernoulli Naive Bayes as assignment description asked. \n",
        "\n",
        "\n",
        "Test different values of binarizing\n",
        "-> I have tested with different values of binarizing and plot binarize vs accuracy. Binarize is a threshold for binarizing sample features, and it shows the highest accuracy with the default value of 0.0 and then the accuracy decreases and converges at 1 as this threshold increases under the model. \n",
        "any count over this binarize will be mapped to 1/True, so we can assume that in this case there are too many words occurs less than 2, which will not be mapped to 1/True.  \n",
        "\n",
        "\n",
        "\n",
        "Discuss the differences between these two classifiers. \n",
        "->\n",
        "With datasets and models, we get \n",
        "\n",
        "*   the accuracy pf training set with MultinomialNB(): 0.8496563573883161\n",
        "*   the accuracy of testing set with MultinomialNB(): 0.847\n",
        "*   the accuracy of training set with BernoulliNB(): 0.9097938144329897\n",
        "*   the accuracy of testing set with BernoulliNB(): 0.876\n",
        "\n",
        "BernoulliNB() performs better in the models when it comes to accuracy. \n",
        "\n",
        " The differences between Multinomial NB and Bernoulli NB mainly come from how each classifier counts features. To be specific, Multinomial NB calculates counts for multiple features occurs as the name infers and classifies the data in the documents using the counts of multiple keywords that it finds. However, Bernoulli NB only cares about a single keyword and does for a single feature, and also counts how many times that keyword does not in the document. \n",
        "\n"
      ],
      "metadata": {
        "id": "VB6h77e0GVA1"
      }
    },
    {
      "cell_type": "markdown",
      "source": [
        "# 1. Multinomial Naive Bayes"
      ],
      "metadata": {
        "id": "uNIpNFJuu6Xl"
      }
    },
    {
      "cell_type": "code",
      "source": [
        "# write a function for runining naiveBayes with the given name and arguments: \n",
        "\n",
        "def run_naiveBayes_MN(ham_train, ham_test, spam_train, spam_test): \n",
        "   \n",
        "  #labeling \n",
        "  array_of0s_train = np.zeros((len(spam_train)), dtype=int, order='F')\n",
        "  array_of0s_test = np.zeros((len(spam_test)), dtype=int, order='F')\n",
        "\n",
        "  array_of1s_train = np.ones((len(ham_train)), dtype=int, order='F')\n",
        "  array_of1s_test = np.ones((len(ham_test)), dtype=int, order='F')\n",
        "  \n",
        "  Y_train = np.concatenate((array_of0s_train, array_of1s_train), axis=0)\n",
        "  Y_test = np.concatenate((array_of0s_test, array_of1s_test), axis=0)\n",
        "  X_train = np.concatenate((spam_train, ham_train), axis=0)\n",
        "  X_test = np.concatenate((spam_test, ham_test), axis=0)\n",
        "  \n",
        "  #realse memory \n",
        "  array_of0s_train = []\n",
        "  array_of1s_train = []\n",
        "  array_of0s_test = [] \n",
        "  array_of1s_test = [] \n",
        "  \n",
        "  spam_train = []\n",
        "  spam_test = []\n",
        "  ham_train = []\n",
        "  ham_test = [] \n",
        "\n",
        "\n",
        " # transform documents to matrix format \n",
        "  vectorizer = CountVectorizer()\n",
        "  X_train_vec = vectorizer.fit_transform(X_train)\n",
        "  array = vectorizer.get_feature_names_out()\n",
        "\n",
        "  pipeline = make_pipeline( TfidfVectorizer(smooth_idf=True), MultinomialNB() )\n",
        "  pipeline.fit(X_train, Y_train)\n",
        "  acc_train = accuracy_score(Y_train, pipeline.predict(X_train))\n",
        "  acc_val = accuracy_score(Y_test, pipeline.predict(X_test))\n",
        "\n",
        "  print('the accuracy of training set with MultinomialNB() :',acc_train)\n",
        "  print('the accuracy of testing set with MultinomialNB():', acc_val)\n",
        "\n",
        "\n",
        "  #finding common words and uncommon words\n",
        "  sumOfX = [sum(x) for x in zip(*X_train_vec.toarray())]\n",
        "  ind = np.argsort(sumOfX, axis=0) \n",
        "  unmmonWords = [array[ind[0]],array[ind[1]],array[ind[2]],array[ind[3]],array[ind[4]],array[ind[5]],array[ind[6]],array[ind[7]]]\n",
        "  commonWords = [array[ind[len(ind)-1]],array[ind[len(ind)-2]],array[ind[len(ind)-3]],array[ind[len(ind)-4]],array[ind[len(ind)-5]],array[ind[len(ind)-6]],array[ind[len(ind)-7]],array[ind[len(ind)-8]]]\n",
        "  print('common words: ',commonWords)\n",
        "  print('unmmonWords: ',unmmonWords)\n",
        "  \n",
        "  \n",
        "\n",
        "  #Plot Confusion matrix \n",
        "  guesses = pipeline.predict(X_test)\n",
        "  print(classification_report(Y_test, guesses))\n",
        "  print(confusion_matrix(Y_test, guesses))\n",
        "\n",
        "  print('confusion_matrix using Multinomial Naive Bayes')\n",
        "  plot_confusion_matrix(pipeline, X_test, Y_test)  \n",
        "\n",
        "  return acc_train,acc_val  "
      ],
      "metadata": {
        "id": "tiRp2Q2PSa98"
      },
      "execution_count": null,
      "outputs": []
    },
    {
      "cell_type": "markdown",
      "source": [
        "#2. Bernoulli Naive Bayes"
      ],
      "metadata": {
        "id": "XlECfnyEvHb1"
      }
    },
    {
      "cell_type": "code",
      "source": [
        "# write a function for runining naiveBayes with the given name and arguments: \n",
        "\n",
        "def run_naiveBayes_BN(ham_train, ham_test, spam_train, spam_test): \n",
        "   \n",
        "  #labeling \n",
        "  array_of0s_train = np.zeros((len(spam_train)), dtype=int, order='F')\n",
        "  array_of0s_test = np.zeros((len(spam_test)), dtype=int, order='F')\n",
        "\n",
        "  array_of1s_train = np.ones((len(ham_train)), dtype=int, order='F')\n",
        "  array_of1s_test = np.ones((len(ham_test)), dtype=int, order='F')\n",
        "  \n",
        "  Y_train = np.concatenate((array_of0s_train, array_of1s_train), axis=0)\n",
        "  Y_test = np.concatenate((array_of0s_test, array_of1s_test), axis=0)\n",
        "  X_train = np.concatenate((spam_train, ham_train), axis=0)\n",
        "  X_test = np.concatenate((spam_test, ham_test), axis=0)\n",
        "  \n",
        "  #realse memory \n",
        "  array_of0s_train = []\n",
        "  array_of1s_train = []\n",
        "  array_of0s_test = [] \n",
        "  array_of1s_test = [] \n",
        "  \n",
        "  spam_train = []\n",
        "  spam_test = []\n",
        "  ham_train = []\n",
        "  ham_test = [] \n",
        "\n",
        "\n",
        " # transform documents to matrix format \n",
        "  vectorizer = CountVectorizer()\n",
        "  X_train_vec = vectorizer.fit_transform(X_train)\n",
        "  array = vectorizer.get_feature_names_out()\n",
        "\n",
        "  pipeline = make_pipeline( TfidfVectorizer(smooth_idf=True), BernoulliNB() )\n",
        "  pipeline.fit(X_train, Y_train)\n",
        "  acc_train = accuracy_score(Y_train, pipeline.predict(X_train))\n",
        "  acc_val = accuracy_score(Y_test, pipeline.predict(X_test))\n",
        "\n",
        "  print('the accuracy of training set with BernoulliNB() :',acc_train)\n",
        "  print('the accuracy of testing set with BernoulliNB():', acc_val)\n",
        "\n",
        "\n",
        "  #finding common words and uncommon words\n",
        "  sumOfX = [sum(x) for x in zip(*X_train_vec.toarray())]\n",
        "  ind = np.argsort(sumOfX, axis=0) \n",
        "  unmmonWords = [array[ind[0]],array[ind[1]],array[ind[2]],array[ind[3]],array[ind[4]],array[ind[5]],array[ind[6]],array[ind[7]]]\n",
        "  commonWords = [array[ind[len(ind)-1]],array[ind[len(ind)-2]],array[ind[len(ind)-3]],array[ind[len(ind)-4]],array[ind[len(ind)-5]],array[ind[len(ind)-6]],array[ind[len(ind)-7]],array[ind[len(ind)-8]]]\n",
        "  print('common words: ',commonWords)\n",
        "  print('unmmonWords: ',unmmonWords)\n",
        " \n",
        "  #Plot confusion matrix\n",
        "  guesses = pipeline.predict(X_test)\n",
        "  print(classification_report(Y_test, guesses))\n",
        "  print(confusion_matrix(Y_test, guesses))\n",
        "  print('confusion_matrix using Bernoulli Naive Bayes')\n",
        "  plot_confusion_matrix(pipeline, X_test, Y_test)  \n",
        "\n",
        "  return acc_train,acc_val  "
      ],
      "metadata": {
        "id": "mTwpSsogvJYV"
      },
      "execution_count": null,
      "outputs": []
    },
    {
      "cell_type": "code",
      "source": [
        "run_naiveBayes_MN(ham_train, ham_test, spam_train, spam_test)"
      ],
      "metadata": {
        "colab": {
          "base_uri": "https://localhost:8080/",
          "height": 638
        },
        "id": "BCPx5pewoqDJ",
        "outputId": "9426e8ac-4354-453b-efd1-589d50d76c81"
      },
      "execution_count": null,
      "outputs": [
        {
          "output_type": "stream",
          "name": "stdout",
          "text": [
            "the accuracy of training set with MultinomialNB() : 0.8496563573883161\n",
            "the accuracy of testing set with MultinomialNB(): 0.847\n",
            "common words:  ['com', 'the', 'to', 'http', 'from', '2002', 'td', '3d']\n",
            "unmmonWords:  ['ÿÿÿÿÿÿÿÿÿÿÿÿÿÿÿÿÿÿÿÿÿÿÿÿÿÿÿÿÿÿÿÿÿÿÿÿÿÿÿÿÿó', 'extrapolated', 'extrasolar', 'extraterrestrial', 'regalia', 'extremeny', 'regal', 'refute']\n",
            "              precision    recall  f1-score   support\n",
            "\n",
            "           0       1.00      0.01      0.01       154\n",
            "           1       0.85      1.00      0.92       846\n",
            "\n",
            "    accuracy                           0.85      1000\n",
            "   macro avg       0.92      0.50      0.46      1000\n",
            "weighted avg       0.87      0.85      0.78      1000\n",
            "\n",
            "[[  1 153]\n",
            " [  0 846]]\n",
            "confusion_matrix using Multinomial Naive Bayes\n"
          ]
        },
        {
          "output_type": "stream",
          "name": "stderr",
          "text": [
            "/usr/local/lib/python3.7/dist-packages/sklearn/utils/deprecation.py:87: FutureWarning: Function plot_confusion_matrix is deprecated; Function `plot_confusion_matrix` is deprecated in 1.0 and will be removed in 1.2. Use one of the class methods: ConfusionMatrixDisplay.from_predictions or ConfusionMatrixDisplay.from_estimator.\n",
            "  warnings.warn(msg, category=FutureWarning)\n"
          ]
        },
        {
          "output_type": "execute_result",
          "data": {
            "text/plain": [
              "(0.8496563573883161, 0.847)"
            ]
          },
          "metadata": {},
          "execution_count": 31
        },
        {
          "output_type": "display_data",
          "data": {
            "text/plain": [
              "<Figure size 432x288 with 2 Axes>"
            ],
            "image/png": "[encoded data removed]"
          },
          "metadata": {
            "needs_background": "light"
          }
        }
      ]
    },
    {
      "cell_type": "code",
      "source": [
        "run_naiveBayes_BN(ham_train, ham_test, spam_train, spam_test)"
      ],
      "metadata": {
        "colab": {
          "base_uri": "https://localhost:8080/",
          "height": 638
        },
        "id": "geE68146iw7x",
        "outputId": "1636bc69-33ea-4fe2-f9a4-4e5f295122b6"
      },
      "execution_count": null,
      "outputs": [
        {
          "output_type": "stream",
          "name": "stdout",
          "text": [
            "the accuracy of training set with BernoulliNB() : 0.9097938144329897\n",
            "the accuracy of testing set with BernoulliNB(): 0.876\n",
            "common words:  ['com', 'the', 'to', 'http', 'from', '2002', 'td', '3d']\n",
            "unmmonWords:  ['ÿÿÿÿÿÿÿÿÿÿÿÿÿÿÿÿÿÿÿÿÿÿÿÿÿÿÿÿÿÿÿÿÿÿÿÿÿÿÿÿÿó', 'extrapolated', 'extrasolar', 'extraterrestrial', 'regalia', 'extremeny', 'regal', 'refute']\n",
            "              precision    recall  f1-score   support\n",
            "\n",
            "           0       0.86      0.23      0.37       154\n",
            "           1       0.88      0.99      0.93       846\n",
            "\n",
            "    accuracy                           0.88      1000\n",
            "   macro avg       0.87      0.61      0.65      1000\n",
            "weighted avg       0.87      0.88      0.84      1000\n",
            "\n",
            "[[ 36 118]\n",
            " [  6 840]]\n",
            "confusion_matrix using Bernoulli Naive Bayes\n"
          ]
        },
        {
          "output_type": "stream",
          "name": "stderr",
          "text": [
            "/usr/local/lib/python3.7/dist-packages/sklearn/utils/deprecation.py:87: FutureWarning: Function plot_confusion_matrix is deprecated; Function `plot_confusion_matrix` is deprecated in 1.0 and will be removed in 1.2. Use one of the class methods: ConfusionMatrixDisplay.from_predictions or ConfusionMatrixDisplay.from_estimator.\n",
            "  warnings.warn(msg, category=FutureWarning)\n"
          ]
        },
        {
          "output_type": "execute_result",
          "data": {
            "text/plain": [
              "(0.9097938144329897, 0.876)"
            ]
          },
          "metadata": {},
          "execution_count": 42
        },
        {
          "output_type": "display_data",
          "data": {
            "text/plain": [
              "<Figure size 432x288 with 2 Axes>"
            ],
            "image/png": "[encoded data removed]"
          },
          "metadata": {
            "needs_background": "light"
          }
        }
      ]
    },
    {
      "cell_type": "markdown",
      "source": [
        "#Bernoulli Naive Bayes with different binarize"
      ],
      "metadata": {
        "id": "wa-DyK8KwfDN"
      }
    },
    {
      "cell_type": "code",
      "source": [
        "\n",
        "#Changing binarize \n",
        "\n",
        "def run_naiveBayes_BN_binarize(ham_train, ham_test, spam_train, spam_test): \n",
        "   \n",
        "  #labeling \n",
        "  array_of0s_train = np.zeros((len(spam_train)), dtype=int, order='F')\n",
        "  array_of0s_test = np.zeros((len(spam_test)), dtype=int, order='F')\n",
        "\n",
        "  array_of1s_train = np.ones((len(ham_train)), dtype=int, order='F')\n",
        "  array_of1s_test = np.ones((len(ham_test)), dtype=int, order='F')\n",
        "  \n",
        "  Y_train = np.concatenate((array_of0s_train, array_of1s_train), axis=0)\n",
        "  Y_test = np.concatenate((array_of0s_test, array_of1s_test), axis=0)\n",
        "  X_train = np.concatenate((spam_train, ham_train), axis=0)\n",
        "  X_test = np.concatenate((spam_test, ham_test), axis=0)\n",
        "  \n",
        "  #realse memory \n",
        "  array_of0s_train = []\n",
        "  array_of1s_train = []\n",
        "  array_of0s_test = [] \n",
        "  array_of1s_test = [] \n",
        "  \n",
        "  spam_train = []\n",
        "  spam_test = []\n",
        "  ham_train = []\n",
        "  ham_test = [] \n",
        "\n",
        "  acc_train_dtc = []\n",
        "  acc_val_dtc = []\n",
        "  i_value = [] \n",
        "\n",
        "  i = 0.0\n",
        "  while(i < 10):\n",
        "   pipeline = make_pipeline(\n",
        "     TfidfVectorizer(), BernoulliNB(binarize = i)\n",
        "   )\n",
        "   pipeline.fit(X_train, Y_train)\n",
        "   acc_temp_train = accuracy_score(Y_train, pipeline.predict(X_train))\n",
        "   acc_train_dtc.append(acc_temp_train)\n",
        "  \n",
        "   acc_temp_val = accuracy_score(Y_test, pipeline.predict(X_test))\n",
        "   acc_val_dtc.append(acc_temp_val)\n",
        "   i_value.append(i)\n",
        "\n",
        "   i+= 1\n",
        "\n",
        "\n",
        "  plt.plot(i_value,acc_train_dtc,label=\"train\")\n",
        "  plt.plot(i_value,acc_val_dtc,label=\"val\")\n",
        "  plt.xlabel(\"binarize value\")\n",
        "  plt.ylabel(\"accuracy\")\n",
        "  plt.legend(loc=\"upper left\")\n"
      ],
      "metadata": {
        "id": "df3loOOyKeTz"
      },
      "execution_count": null,
      "outputs": []
    },
    {
      "cell_type": "code",
      "source": [
        "run_naiveBayes_BN_binarize(ham_train, ham_test, spam_train, spam_test)"
      ],
      "metadata": {
        "colab": {
          "base_uri": "https://localhost:8080/",
          "height": 279
        },
        "id": "UY4agyYxxhQ8",
        "outputId": "be219e52-66d2-4ada-b488-cdfc54a0ade7"
      },
      "execution_count": null,
      "outputs": [
        {
          "output_type": "display_data",
          "data": {
            "text/plain": [
              "<Figure size 432x288 with 1 Axes>"
            ],
            "image/png": "[encoded data removed]"
          },
          "metadata": {
            "needs_background": "light"
          }
        }
      ]
    },
    {
      "cell_type": "markdown",
      "source": [
        "#Plot confusion Matrix"
      ],
      "metadata": {
        "id": "bjrIQSXm1diS"
      }
    },
    {
      "cell_type": "code",
      "source": [
        "def plot_confusion_Matrix_MN(ham_train, ham_test, spam_train, spam_test): \n",
        "   \n",
        "  #labeling \n",
        "  array_of0s_train = np.zeros((len(spam_train)), dtype=int, order='F')\n",
        "  array_of0s_test = np.zeros((len(spam_test)), dtype=int, order='F')\n",
        "\n",
        "  array_of1s_train = np.ones((len(ham_train)), dtype=int, order='F')\n",
        "  array_of1s_test = np.ones((len(ham_test)), dtype=int, order='F')\n",
        "  \n",
        "  Y_train = np.concatenate((array_of0s_train, array_of1s_train), axis=0)\n",
        "  Y_test = np.concatenate((array_of0s_test, array_of1s_test), axis=0)\n",
        "  X_train = np.concatenate((spam_train, ham_train), axis=0)\n",
        "  X_test = np.concatenate((spam_test, ham_test), axis=0)\n",
        "  \n",
        "  #realse memory \n",
        "  array_of0s_train = []\n",
        "  array_of1s_train = []\n",
        "  array_of0s_test = [] \n",
        "  array_of1s_test = [] \n",
        "  \n",
        "  spam_train = []\n",
        "  spam_test = []\n",
        "  ham_train = []\n",
        "  ham_test = [] \n",
        "\n",
        "  pipeline = make_pipeline( TfidfVectorizer(), MultinomialNB() )\n",
        "  pipeline.fit(X_train, Y_train)\n",
        "  guesses = pipeline.predict(X_test)\n",
        "  print(classification_report(Y_test, guesses))\n",
        "  print(confusion_matrix(Y_test, guesses))\n",
        "  plot_confusion_matrix(pipeline, X_test, Y_test)  "
      ],
      "metadata": {
        "id": "gk5Q1Zax1GCj"
      },
      "execution_count": null,
      "outputs": []
    },
    {
      "cell_type": "code",
      "source": [
        "def plot_confusion_Matrix_BN(ham_train, ham_test, spam_train, spam_test): \n",
        "   \n",
        "  #labeling \n",
        "  array_of0s_train = np.zeros((len(spam_train)), dtype=int, order='F')\n",
        "  array_of0s_test = np.zeros((len(spam_test)), dtype=int, order='F')\n",
        "\n",
        "  array_of1s_train = np.ones((len(ham_train)), dtype=int, order='F')\n",
        "  array_of1s_test = np.ones((len(ham_test)), dtype=int, order='F')\n",
        "  \n",
        "  Y_train = np.concatenate((array_of0s_train, array_of1s_train), axis=0)\n",
        "  Y_test = np.concatenate((array_of0s_test, array_of1s_test), axis=0)\n",
        "  X_train = np.concatenate((spam_train, ham_train), axis=0)\n",
        "  X_test = np.concatenate((spam_test, ham_test), axis=0)\n",
        "  \n",
        "  #realse memory \n",
        "  array_of0s_train = []\n",
        "  array_of1s_train = []\n",
        "  array_of0s_test = [] \n",
        "  array_of1s_test = [] \n",
        "  \n",
        "  spam_train = []\n",
        "  spam_test = []\n",
        "  ham_train = []\n",
        "  ham_test = [] \n",
        "\n",
        "  pipeline = make_pipeline( TfidfVectorizer(), BernoulliNB() )\n",
        "  pipeline.fit(X_train, Y_train)\n",
        "  guesses = pipeline.predict(X_test)\n",
        "  print(classification_report(Y_test, guesses))\n",
        "  print(confusion_matrix(Y_test, guesses))\n",
        "  plot_confusion_matrix(pipeline, X_test, Y_test)  "
      ],
      "metadata": {
        "id": "wHslwPeh2S_9"
      },
      "execution_count": null,
      "outputs": []
    },
    {
      "cell_type": "markdown",
      "source": [
        "# Task 3\n",
        "\n",
        "Run the function you wrote in the previous question on\n",
        "\n",
        "\n",
        "i.\tSpam versus easy-ham\n",
        "\n",
        "ii.\tSpam versus hard-ham\n",
        "\n",
        "\n",
        "and include the results in your report. Report in addition to accuracy, also plots of the confusion matrices (see documentation for sklearn.metrics.confusion_matrix). \n",
        "\n",
        "i.\tSpam versus easy-ham\n",
        "\n",
        "* the accuracy of training set with MultinomialNB() : 0.9006529850746269\n",
        "* the accuracy of testing set with MultinomialNB(): 0.883695652173913\n",
        "* the accuracy of training set with BernoulliNB() : 0.925839552238806\n",
        "* the accuracy of testing set with BernoulliNB(): 0.9065217391304348\n",
        "\n",
        "\n",
        "ii.\tSpam versus hard-ham\n",
        "\n",
        "*   the accuracy of training set with MultinomialNB() : 0.8632162661737524\n",
        "*   the accuracy of testing set with MultinomialNB(): 0.8461538461538461\n",
        "*   the accuracy of training set with BernoulliNB() : 0.9038817005545287\n",
        "*   the accuracy of testing set with BernoulliNB(): 0.8547008547008547\n",
        "\n",
        "\n",
        "\n",
        "Why is only reporting accuracy not a good idea in this case? \n",
        "\n",
        "In this case we’re interested in one class in particular “finding spams”. So only reporting accuracy is not enough to meet our goal here because higher accuracy not always mean that meet the data analysis purpose better. For example, with Spam vs hard-ham, using BernoulliNB() shows better accuracy than MultinomialNB(). However, we will get more spam mails which predicted as ham (False Positive). We can use several evaluation metrics which are defined from the cells in a confusion matrix, and evaluate the model better. In this case, we have much less dataset for spam, as we can see in the confusion matrix (False positive)   \n",
        "The precision and recall metrics are probably the most common, and we can caluate with those formula.\n",
        "\n",
        "* $P$ = TP / (TP + FP)\n",
        "\n",
        "* $R$ = TP / (TP + FN)\n"
      ],
      "metadata": {
        "id": "1s4xkP48XVJN"
      }
    },
    {
      "cell_type": "markdown",
      "source": [
        "#i. Spam versus easy-ham"
      ],
      "metadata": {
        "id": "mvzzx-MYyKME"
      }
    },
    {
      "cell_type": "code",
      "source": [
        "# Preparing input datasets \n",
        "\n",
        "spam_train, spam_test = train_test_split(spam.data, test_size=0.3, random_state=12000)\n",
        "easy_ham_train, easy_ham_test = train_test_split(easy_ham.data,  test_size=0.3, random_state=12000)\n",
        "\n",
        "#function call \n",
        "acc_MN_easy = run_naiveBayes_MN(easy_ham_train, easy_ham_test, spam_train, spam_test)\n",
        "acc_BN_easy = run_naiveBayes_BN(easy_ham_train, easy_ham_test, spam_train, spam_test)\n"
      ],
      "metadata": {
        "colab": {
          "base_uri": "https://localhost:8080/",
          "height": 1204
        },
        "id": "kzdI-HmByINs",
        "outputId": "7755e5c4-b315-4c10-9aa4-ae4b365cabc1"
      },
      "execution_count": null,
      "outputs": [
        {
          "output_type": "stream",
          "name": "stdout",
          "text": [
            "the accuracy of training set with MultinomialNB() : 0.9006529850746269\n",
            "the accuracy of testing set with MultinomialNB(): 0.883695652173913\n",
            "common words:  ['com', 'to', 'the', 'from', '2002', 'net', 'for', 'with']\n",
            "unmmonWords:  ['ÿÿÿÿÿÿÿÿÿÿÿÿÿÿÿÿÿÿÿÿÿÿÿÿÿÿÿÿÿÿÿÿÿÿÿÿÿÿÿÿÿó', 'rp7d', 'fijm8h', 'fijs5mnu7ki3d86weig7tbi5y4is0tluuuczs4v4dougv1j', 'rp3b1amnii2t3', 'rp1fcdrlcydnh1', 'filedescriptor', 'filehandle']\n",
            "              precision    recall  f1-score   support\n",
            "\n",
            "           0       1.00      0.31      0.47       154\n",
            "           1       0.88      1.00      0.93       766\n",
            "\n",
            "    accuracy                           0.88       920\n",
            "   macro avg       0.94      0.65      0.70       920\n",
            "weighted avg       0.90      0.88      0.86       920\n",
            "\n",
            "[[ 47 107]\n",
            " [  0 766]]\n",
            "confusion_matrix using Multinomial Naive Bayes\n"
          ]
        },
        {
          "output_type": "stream",
          "name": "stderr",
          "text": [
            "/usr/local/lib/python3.7/dist-packages/sklearn/utils/deprecation.py:87: FutureWarning: Function plot_confusion_matrix is deprecated; Function `plot_confusion_matrix` is deprecated in 1.0 and will be removed in 1.2. Use one of the class methods: ConfusionMatrixDisplay.from_predictions or ConfusionMatrixDisplay.from_estimator.\n",
            "  warnings.warn(msg, category=FutureWarning)\n"
          ]
        },
        {
          "output_type": "stream",
          "name": "stdout",
          "text": [
            "the accuracy of training set with BernoulliNB() : 0.925839552238806\n",
            "the accuracy of testing set with BernoulliNB(): 0.9065217391304348\n",
            "common words:  ['com', 'to', 'the', 'from', '2002', 'net', 'for', 'with']\n",
            "unmmonWords:  ['ÿÿÿÿÿÿÿÿÿÿÿÿÿÿÿÿÿÿÿÿÿÿÿÿÿÿÿÿÿÿÿÿÿÿÿÿÿÿÿÿÿó', 'rp7d', 'fijm8h', 'fijs5mnu7ki3d86weig7tbi5y4is0tluuuczs4v4dougv1j', 'rp3b1amnii2t3', 'rp1fcdrlcydnh1', 'filedescriptor', 'filehandle']\n",
            "              precision    recall  f1-score   support\n",
            "\n",
            "           0       0.99      0.45      0.62       154\n",
            "           1       0.90      1.00      0.95       766\n",
            "\n",
            "    accuracy                           0.91       920\n",
            "   macro avg       0.94      0.72      0.78       920\n",
            "weighted avg       0.91      0.91      0.89       920\n",
            "\n",
            "[[ 69  85]\n",
            " [  1 765]]\n",
            "confusion_matrix using Bernoulli Naive Bayes\n"
          ]
        },
        {
          "output_type": "stream",
          "name": "stderr",
          "text": [
            "/usr/local/lib/python3.7/dist-packages/sklearn/utils/deprecation.py:87: FutureWarning: Function plot_confusion_matrix is deprecated; Function `plot_confusion_matrix` is deprecated in 1.0 and will be removed in 1.2. Use one of the class methods: ConfusionMatrixDisplay.from_predictions or ConfusionMatrixDisplay.from_estimator.\n",
            "  warnings.warn(msg, category=FutureWarning)\n"
          ]
        },
        {
          "output_type": "display_data",
          "data": {
            "text/plain": [
              "<Figure size 432x288 with 2 Axes>"
            ],
            "image/png": "[encoded data removed]"
          },
          "metadata": {
            "needs_background": "light"
          }
        },
        {
          "output_type": "display_data",
          "data": {
            "text/plain": [
              "<Figure size 432x288 with 2 Axes>"
            ],
            "image/png": "[encoded data removed]"
          },
          "metadata": {
            "needs_background": "light"
          }
        }
      ]
    },
    {
      "cell_type": "markdown",
      "source": [
        "# ii. Spam versus hard-ham"
      ],
      "metadata": {
        "id": "xTpQGn0wyOMc"
      }
    },
    {
      "cell_type": "code",
      "source": [
        "# Preparing input datasets \n",
        "\n",
        "spam_train, spam_test = train_test_split(spam.data, test_size=0.3, random_state=12000)\n",
        "hard_ham_train, hard_ham_test = train_test_split(hard_ham.data,  test_size=0.3, random_state=12000)\n",
        "\n",
        "#function call \n",
        "acc_MN_hard = run_naiveBayes_MN(hard_ham_train, hard_ham_test, spam_train, spam_test)\n",
        "acc_BN_hard = run_naiveBayes_BN(hard_ham_train, hard_ham_test, spam_train, spam_test)\n"
      ],
      "metadata": {
        "colab": {
          "base_uri": "https://localhost:8080/",
          "height": 1204
        },
        "id": "ZBl7V6pIy3bb",
        "outputId": "edcc167f-7af3-40b2-f095-63e4b746bbbe"
      },
      "execution_count": null,
      "outputs": [
        {
          "output_type": "stream",
          "name": "stdout",
          "text": [
            "the accuracy of training set with MultinomialNB() : 0.8632162661737524\n",
            "the accuracy of testing set with MultinomialNB(): 0.8461538461538461\n",
            "common words:  ['com', 'td', 'http', '3d', 'font', 'width', 'the', 'www']\n",
            "unmmonWords:  ['idiolect', 'lzwybvrg9b3saxwal0gitmusdnbf0qx', 'lzxmmcu8qasuuuayztrvpfrcrbllwmx2hgczapq', 'lzxoku7q4fnsid', 'línguas', 'lösungsteil', 'm0', 'm05irnsdhju']\n",
            "              precision    recall  f1-score   support\n",
            "\n",
            "           0       0.81      1.00      0.90       154\n",
            "           1       1.00      0.55      0.71        80\n",
            "\n",
            "    accuracy                           0.85       234\n",
            "   macro avg       0.91      0.78      0.80       234\n",
            "weighted avg       0.88      0.85      0.83       234\n",
            "\n",
            "[[154   0]\n",
            " [ 36  44]]\n",
            "confusion_matrix using Multinomial Naive Bayes\n"
          ]
        },
        {
          "output_type": "stream",
          "name": "stderr",
          "text": [
            "/usr/local/lib/python3.7/dist-packages/sklearn/utils/deprecation.py:87: FutureWarning: Function plot_confusion_matrix is deprecated; Function `plot_confusion_matrix` is deprecated in 1.0 and will be removed in 1.2. Use one of the class methods: ConfusionMatrixDisplay.from_predictions or ConfusionMatrixDisplay.from_estimator.\n",
            "  warnings.warn(msg, category=FutureWarning)\n"
          ]
        },
        {
          "output_type": "stream",
          "name": "stdout",
          "text": [
            "the accuracy of training set with BernoulliNB() : 0.9038817005545287\n",
            "the accuracy of testing set with BernoulliNB(): 0.8547008547008547\n",
            "common words:  ['com', 'td', 'http', '3d', 'font', 'width', 'the', 'www']\n",
            "unmmonWords:  ['idiolect', 'lzwybvrg9b3saxwal0gitmusdnbf0qx', 'lzxmmcu8qasuuuayztrvpfrcrbllwmx2hgczapq', 'lzxoku7q4fnsid', 'línguas', 'lösungsteil', 'm0', 'm05irnsdhju']\n",
            "              precision    recall  f1-score   support\n",
            "\n",
            "           0       0.83      0.97      0.90       154\n",
            "           1       0.93      0.62      0.75        80\n",
            "\n",
            "    accuracy                           0.85       234\n",
            "   macro avg       0.88      0.80      0.82       234\n",
            "weighted avg       0.86      0.85      0.85       234\n",
            "\n",
            "[[150   4]\n",
            " [ 30  50]]\n",
            "confusion_matrix using Bernoulli Naive Bayes\n"
          ]
        },
        {
          "output_type": "stream",
          "name": "stderr",
          "text": [
            "/usr/local/lib/python3.7/dist-packages/sklearn/utils/deprecation.py:87: FutureWarning: Function plot_confusion_matrix is deprecated; Function `plot_confusion_matrix` is deprecated in 1.0 and will be removed in 1.2. Use one of the class methods: ConfusionMatrixDisplay.from_predictions or ConfusionMatrixDisplay.from_estimator.\n",
            "  warnings.warn(msg, category=FutureWarning)\n"
          ]
        },
        {
          "output_type": "display_data",
          "data": {
            "text/plain": [
              "<Figure size 432x288 with 2 Axes>"
            ],
            "image/png": "[encoded data removed]"
          },
          "metadata": {
            "needs_background": "light"
          }
        },
        {
          "output_type": "display_data",
          "data": {
            "text/plain": [
              "<Figure size 432x288 with 2 Axes>"
            ],
            "image/png": "[encoded data removed]"
          },
          "metadata": {
            "needs_background": "light"
          }
        }
      ]
    },
    {
      "cell_type": "markdown",
      "source": [
        "# Task 4\n",
        "\n",
        "To avoid classification based on common and uninformative words it is common to filter these out. \n",
        "\n",
        "#A.\n",
        "Argue why this may be useful. Try finding the words that are too common/uncommon in the dataset. \n",
        "\n",
        "I think it's useful in some cases. For example, the words like a, an, the, and so on those are very commonly used in the sentence however, it's hard to say they are informative. By ignoring those irrelevant words, we may get better accuracy on our model. As shown in the arrays of too common and uncommon words below, those common words do not relate to spam or ham and it supports my assumption. Also, uncommon words do not give useful information for classification because they are too rare to find relations. \n",
        "\n",
        "Spam versus hard-ham (other data combination also has this words in each function)\n",
        "\n",
        "*   common words:  ['com', 'the', 'to', 'http', 'from', '2002', 'td', '3d']\n",
        "*   uncommonWords:  ['ÿÿÿÿÿÿÿÿÿÿÿÿÿÿÿÿÿÿÿÿÿÿÿÿÿÿÿÿÿÿÿÿÿÿÿÿÿÿÿÿÿó', 'extrapolated', 'extrasolar', 'extraterrestrial', 'regalia', 'extremeny', 'regal', 'refute']\n",
        "\n",
        "\n",
        "\n",
        "\n",
        "            \n",
        "\n",
        "\n",
        "\n",
        "\n",
        "#B\n",
        " Use the parameters in Sklearn’s CountVectorizer to filter out these words. Run the updated program on your data and record how the results differ from 3. You have two options to do this in Sklearn: either using the words found in part (a) or letting Sklearn do it for you.\n",
        " \n",
        "Using the parameters in Sklearn’s CountVectorizer: max_dffloat and min_dffloat, I have filtered too common/uncommon words in the datasets. I used the float value which represents a proportion of documents. I gave an upper threshold of 0.5 and a lower threshold of 0.005 so that it cut off the words outside of boundaries when it comes to frequency. Overall classification accuracy increases both classification algorithms after filtering. Here is an example of <spam vs easyham>. \n",
        "\n",
        "\n",
        "[Before filtering] in Task 3 \n",
        "\n",
        "confusion_matrix using Multinomial Naive Bayes\n",
        "\n",
        "              precision    recall  f1-score   support\n",
        "\n",
        "           0       1.00      0.31      0.47       154\n",
        "           1       0.88      1.00      0.93       766\n",
        "\n",
        "    accuracy                           0.88       920\n",
        "   macro avg       0.94      0.65      0.70       920\n",
        "weighted avg       0.90      0.88      0.86       920\n",
        "\n",
        "\n",
        "confusion_matrix using Bernoulli Naive Bayes \n",
        "\n",
        "              precision    recall  f1-score   support\n",
        "\n",
        "           0       0.99      0.45      0.62       154\n",
        "           1       0.90      1.00      0.95       766\n",
        "\n",
        "    accuracy                           0.91       920\n",
        "   macro avg       0.94      0.72      0.78       920\n",
        "weighted avg       0.91      0.91      0.89       920\n",
        "\n",
        "[After filtering] in Task 4\n",
        "\n",
        "confusion_matrix using Multinomial Naive Bayes and filter common/uncommon words\n",
        "\n",
        "the accuracy of the training set with MultinomialNB() : 0.9892723880597015\n",
        "\n",
        "the accuracy of the testing set with MultinomialNB(): 0.9923913043478261\n",
        "\n",
        "              precision    recall  f1-score   support\n",
        "\n",
        "           0       0.99      0.96      0.98       154\n",
        "           1       0.99      1.00      1.00       766\n",
        "    accuracy                           0.99       920\n",
        "   macro avg       0.99      0.98      0.99       920\n",
        "weighted avg       0.99      0.99      0.99       920\n",
        "\n",
        "confusion_matrix using Bernoulli Naive Bayes and filter common/uncommon words\n",
        "\n",
        "the accuracy of training set with BernoulliNB() : 0.9785447761194029\n",
        "\n",
        "the accuracy of the testing set with BernoulliNB(): 0.9739130434782609\n",
        "\n",
        "              precision    recall  f1-score   support\n",
        "\n",
        "           0       0.91      0.94      0.92       154\n",
        "           1       0.99      0.98      0.98       766\n",
        "    accuracy                           0.97       920\n",
        "   macro avg       0.95      0.96      0.95       920\n",
        "weighted avg       0.97      0.97      0.97       920"
      ],
      "metadata": {
        "id": "OjAiRy0YXYLD"
      }
    },
    {
      "cell_type": "code",
      "source": [
        "# write a function for runining naiveBayes with the given name and arguments: \n",
        "\n",
        "def run_naiveBayes_MN_filtered(ham_train, ham_test, spam_train, spam_test): \n",
        "   \n",
        "  #labeling \n",
        "  array_of0s_train = np.zeros((len(spam_train)), dtype=int, order='F')\n",
        "  array_of0s_test = np.zeros((len(spam_test)), dtype=int, order='F')\n",
        "\n",
        "  array_of1s_train = np.ones((len(ham_train)), dtype=int, order='F')\n",
        "  array_of1s_test = np.ones((len(ham_test)), dtype=int, order='F')\n",
        "  \n",
        "  Y_train = np.concatenate((array_of0s_train, array_of1s_train), axis=0)\n",
        "  Y_test = np.concatenate((array_of0s_test, array_of1s_test), axis=0)\n",
        "  X_train = np.concatenate((spam_train, ham_train), axis=0)\n",
        "  X_test = np.concatenate((spam_test, ham_test), axis=0)\n",
        "  \n",
        "  #realse memory \n",
        "  array_of0s_train = []\n",
        "  array_of1s_train = []\n",
        "  array_of0s_test = [] \n",
        "  array_of1s_test = [] \n",
        "  \n",
        "  spam_train = []\n",
        "  spam_test = []\n",
        "  ham_train = []\n",
        "  ham_test = [] \n",
        "\n",
        "  \n",
        " # transform documents to matrix format \n",
        "  vectorizer = CountVectorizer(max_df=0.05, min_df=0.005)\n",
        "  X_train_vec = vectorizer.fit_transform(X_train)\n",
        "  vectorizer.get_feature_names_out()\n",
        "  pipeline = make_pipeline( TfidfVectorizer(smooth_idf=True, max_df=0.05, min_df=0.005 ), MultinomialNB()) # \n",
        "  pipeline.fit(X_train, Y_train)\n",
        "  acc_train = accuracy_score(Y_train, pipeline.predict(X_train))\n",
        "  acc_val = accuracy_score(Y_test, pipeline.predict(X_test))\n",
        "\n",
        "  print('the accuracy of training set with MultinomialNB() :',acc_train)\n",
        "  print('the accuracy of testing set with MultinomialNB():', acc_val)\n",
        "\n",
        "   #Plot confusion matrix\n",
        "  guesses = pipeline.predict(X_test)\n",
        "  print(classification_report(Y_test, guesses))\n",
        "  print(confusion_matrix(Y_test, guesses))\n",
        "  print('confusion_matrix using Multinomial Naive Bayes and filter common/uncommon words')\n",
        "  plot_confusion_matrix(pipeline, X_test, Y_test)  \n",
        "\n",
        "  return acc_train,acc_val  "
      ],
      "metadata": {
        "id": "gb_6bBag7myj"
      },
      "execution_count": null,
      "outputs": []
    },
    {
      "cell_type": "code",
      "source": [
        "# write a function for runining naiveBayes with the given name and arguments: \n",
        "\n",
        "def run_naiveBayes_BN_filtered(ham_train, ham_test, spam_train, spam_test): \n",
        "   \n",
        "  #labeling \n",
        "  array_of0s_train = np.zeros((len(spam_train)), dtype=int, order='F')\n",
        "  array_of0s_test = np.zeros((len(spam_test)), dtype=int, order='F')\n",
        "\n",
        "  array_of1s_train = np.ones((len(ham_train)), dtype=int, order='F')\n",
        "  array_of1s_test = np.ones((len(ham_test)), dtype=int, order='F')\n",
        "  \n",
        "  Y_train = np.concatenate((array_of0s_train, array_of1s_train), axis=0)\n",
        "  Y_test = np.concatenate((array_of0s_test, array_of1s_test), axis=0)\n",
        "  X_train = np.concatenate((spam_train, ham_train), axis=0)\n",
        "  X_test = np.concatenate((spam_test, ham_test), axis=0)\n",
        "  \n",
        "  #realse memory \n",
        "  array_of0s_train = []\n",
        "  array_of1s_train = []\n",
        "  array_of0s_test = [] \n",
        "  array_of1s_test = [] \n",
        "  \n",
        "  spam_train = []\n",
        "  spam_test = []\n",
        "  ham_train = []\n",
        "  ham_test = [] \n",
        "\n",
        "\n",
        " # transform documents to matrix format \n",
        "  vectorizer = CountVectorizer(max_df=0.05, min_df=0.005)\n",
        "  X_train_vec = vectorizer.fit_transform(X_train)\n",
        "  vectorizer.get_feature_names_out()\n",
        "\n",
        "  pipeline = make_pipeline( TfidfVectorizer(smooth_idf=True, max_df=0.05, min_df=0.005), BernoulliNB() )\n",
        "  pipeline.fit(X_train, Y_train)\n",
        "  acc_train = accuracy_score(Y_train, pipeline.predict(X_train))\n",
        "  acc_val = accuracy_score(Y_test, pipeline.predict(X_test))\n",
        "\n",
        "  print('the accuracy of training set with BernoulliNB() :',acc_train)\n",
        "  print('the accuracy of testing set with BernoulliNB():', acc_val)\n",
        "\n",
        "   #Plot confusion matrix\n",
        "  guesses = pipeline.predict(X_test)\n",
        "  print(classification_report(Y_test, guesses))\n",
        "  print(confusion_matrix(Y_test, guesses))\n",
        "  print('confusion_matrix using Bernoulli Naive Bayes and filter common/uncommon words')\n",
        "  plot_confusion_matrix(pipeline, X_test, Y_test)  \n",
        "\n",
        "  return acc_train,acc_val  "
      ],
      "metadata": {
        "id": "Az-U6Fd19U47"
      },
      "execution_count": null,
      "outputs": []
    },
    {
      "cell_type": "code",
      "source": [
        "#function call \n",
        "print(\"<spam vs easy ham> with filter of common/uncommon words\")\n",
        "\n",
        "acc_MN_easy_filtered = run_naiveBayes_MN_filtered(easy_ham_train, easy_ham_test, spam_train, spam_test)\n",
        "acc_BN_easy_filtered = run_naiveBayes_BN_filtered(easy_ham_train, easy_ham_test, spam_train, spam_test)"
      ],
      "metadata": {
        "colab": {
          "base_uri": "https://localhost:8080/",
          "height": 1150
        },
        "id": "ndZMfY5u7wo-",
        "outputId": "c37fad79-cb9b-4fac-adb0-11f31badebb6"
      },
      "execution_count": null,
      "outputs": [
        {
          "output_type": "stream",
          "name": "stdout",
          "text": [
            "<spam vs easy ham> with filter of common/uncommon words\n",
            "the accuracy of training set with MultinomialNB() : 0.9892723880597015\n",
            "the accuracy of testing set with MultinomialNB(): 0.9923913043478261\n",
            "              precision    recall  f1-score   support\n",
            "\n",
            "           0       0.99      0.96      0.98       154\n",
            "           1       0.99      1.00      1.00       766\n",
            "\n",
            "    accuracy                           0.99       920\n",
            "   macro avg       0.99      0.98      0.99       920\n",
            "weighted avg       0.99      0.99      0.99       920\n",
            "\n",
            "[[148   6]\n",
            " [  1 765]]\n",
            "confusion_matrix using Multinomial Naive Bayes and filter common/uncommon words\n"
          ]
        },
        {
          "output_type": "stream",
          "name": "stderr",
          "text": [
            "/usr/local/lib/python3.7/dist-packages/sklearn/utils/deprecation.py:87: FutureWarning: Function plot_confusion_matrix is deprecated; Function `plot_confusion_matrix` is deprecated in 1.0 and will be removed in 1.2. Use one of the class methods: ConfusionMatrixDisplay.from_predictions or ConfusionMatrixDisplay.from_estimator.\n",
            "  warnings.warn(msg, category=FutureWarning)\n"
          ]
        },
        {
          "output_type": "stream",
          "name": "stdout",
          "text": [
            "the accuracy of training set with BernoulliNB() : 0.9785447761194029\n",
            "the accuracy of testing set with BernoulliNB(): 0.9739130434782609\n",
            "              precision    recall  f1-score   support\n",
            "\n",
            "           0       0.91      0.94      0.92       154\n",
            "           1       0.99      0.98      0.98       766\n",
            "\n",
            "    accuracy                           0.97       920\n",
            "   macro avg       0.95      0.96      0.95       920\n",
            "weighted avg       0.97      0.97      0.97       920\n",
            "\n",
            "[[145   9]\n",
            " [ 15 751]]\n",
            "confusion_matrix using Bernoulli Naive Bayes and filter common/uncommon words\n"
          ]
        },
        {
          "output_type": "stream",
          "name": "stderr",
          "text": [
            "/usr/local/lib/python3.7/dist-packages/sklearn/utils/deprecation.py:87: FutureWarning: Function plot_confusion_matrix is deprecated; Function `plot_confusion_matrix` is deprecated in 1.0 and will be removed in 1.2. Use one of the class methods: ConfusionMatrixDisplay.from_predictions or ConfusionMatrixDisplay.from_estimator.\n",
            "  warnings.warn(msg, category=FutureWarning)\n"
          ]
        },
        {
          "output_type": "display_data",
          "data": {
            "text/plain": [
              "<Figure size 432x288 with 2 Axes>"
            ],
            "image/png": "[encoded data removed]"
          },
          "metadata": {
            "needs_background": "light"
          }
        },
        {
          "output_type": "display_data",
          "data": {
            "text/plain": [
              "<Figure size 432x288 with 2 Axes>"
            ],
            "image/png": "[encoded data removed]"
          },
          "metadata": {
            "needs_background": "light"
          }
        }
      ]
    },
    {
      "cell_type": "code",
      "source": [
        "\n",
        "#function call \n",
        "print(\"<spam vs hard ham with filter of common/uncommon words>\")\n",
        "acc_MN_hard_filtered = run_naiveBayes_MN_filtered(hard_ham_train, hard_ham_test, spam_train, spam_test)\n",
        "acc_BN_hard_filtered = run_naiveBayes_BN_filtered(hard_ham_train, hard_ham_test, spam_train, spam_test)\n"
      ],
      "metadata": {
        "colab": {
          "base_uri": "https://localhost:8080/",
          "height": 1150
        },
        "id": "jSeEseZr-R2S",
        "outputId": "6eafd0ab-2621-40ae-947e-0fce4e472dc8"
      },
      "execution_count": null,
      "outputs": [
        {
          "output_type": "stream",
          "name": "stdout",
          "text": [
            "<spam vs hard ham with filter of common/uncommon words>\n",
            "the accuracy of training set with MultinomialNB() : 0.9722735674676525\n",
            "the accuracy of testing set with MultinomialNB(): 0.9145299145299145\n",
            "              precision    recall  f1-score   support\n",
            "\n",
            "           0       0.89      1.00      0.94       154\n",
            "           1       1.00      0.75      0.86        80\n",
            "\n",
            "    accuracy                           0.91       234\n",
            "   macro avg       0.94      0.88      0.90       234\n",
            "weighted avg       0.92      0.91      0.91       234\n",
            "\n",
            "[[154   0]\n",
            " [ 20  60]]\n",
            "confusion_matrix using Multinomial Naive Bayes and filter common/uncommon words\n"
          ]
        },
        {
          "output_type": "stream",
          "name": "stderr",
          "text": [
            "/usr/local/lib/python3.7/dist-packages/sklearn/utils/deprecation.py:87: FutureWarning: Function plot_confusion_matrix is deprecated; Function `plot_confusion_matrix` is deprecated in 1.0 and will be removed in 1.2. Use one of the class methods: ConfusionMatrixDisplay.from_predictions or ConfusionMatrixDisplay.from_estimator.\n",
            "  warnings.warn(msg, category=FutureWarning)\n"
          ]
        },
        {
          "output_type": "stream",
          "name": "stdout",
          "text": [
            "the accuracy of training set with BernoulliNB() : 0.9094269870609981\n",
            "the accuracy of testing set with BernoulliNB(): 0.8504273504273504\n",
            "              precision    recall  f1-score   support\n",
            "\n",
            "           0       0.83      0.97      0.90       154\n",
            "           1       0.92      0.61      0.74        80\n",
            "\n",
            "    accuracy                           0.85       234\n",
            "   macro avg       0.88      0.79      0.82       234\n",
            "weighted avg       0.86      0.85      0.84       234\n",
            "\n",
            "[[150   4]\n",
            " [ 31  49]]\n",
            "confusion_matrix using Bernoulli Naive Bayes and filter common/uncommon words\n"
          ]
        },
        {
          "output_type": "stream",
          "name": "stderr",
          "text": [
            "/usr/local/lib/python3.7/dist-packages/sklearn/utils/deprecation.py:87: FutureWarning: Function plot_confusion_matrix is deprecated; Function `plot_confusion_matrix` is deprecated in 1.0 and will be removed in 1.2. Use one of the class methods: ConfusionMatrixDisplay.from_predictions or ConfusionMatrixDisplay.from_estimator.\n",
            "  warnings.warn(msg, category=FutureWarning)\n"
          ]
        },
        {
          "output_type": "display_data",
          "data": {
            "text/plain": [
              "<Figure size 432x288 with 2 Axes>"
            ],
            "image/png": "[encoded data removed]"
          },
          "metadata": {
            "needs_background": "light"
          }
        },
        {
          "output_type": "display_data",
          "data": {
            "text/plain": [
              "<Figure size 432x288 with 2 Axes>"
            ],
            "image/png": "[encoded data removed]"
          },
          "metadata": {
            "needs_background": "light"
          }
        }
      ]
    },
    {
      "cell_type": "markdown",
      "source": [
        "#Task 5\n",
        "\n",
        "Filter out the headers and the footers of the emails before you run on them. The format may vary somewhat between emails, which can make this a bit tricky, so perfect filtering is not required. Run your program again and answer the following questions: \n",
        "\n",
        "#A. \n",
        "\n",
        "Does the result improve from 3 and 4?\n",
        "\n",
        "-> I have filtered out the headers and the footers of the emails. Because there is no definite standardized format of headers and footers, several policies can be proposed. For example, I can ignore the first 10 lines of emails or certain formats such as email addresses. However, both policies may not work well because we have to consider a trade-off between removing irrelevant data and the loss of useful data. My suggestion is that split the data by 'Subject:' because the title of the email contains meaningful words and also an indication of starting email contents. For the footers, there are no common structural characteristics so I minimize filtering footers so that I can keep the mail contents as much as possible. \n",
        "\n",
        "-> I ran the program in Task3 and Task 4 again. The result is not always improved. With Multinomial Naive Bayes, both results of Task 3 and Task 4 improved in terms of accuracy. However, with Bernoulli Naive Bayes, accuracy decrease for both cases, and also the number of False Positive is significantly increased. \n",
        "There can be various reasons for such a result. First of all, the policy of filtering header and footer may not correct and affect the result by losing important information, especially spam data set which has relatively fewer data. In addition, by removing headers and footers, the set of too common/uncommon words was changed, and the individual counts as well. The previous value of the parameters max_df=0.05 and min_df=0.005 need to be adjusted too. \n",
        "\n",
        "\n",
        "\n"
      ],
      "metadata": {
        "id": "55b6Y-RuXZab"
      }
    },
    {
      "cell_type": "markdown",
      "source": [
        "**The result from 3 with the data header and footer filtered **\n"
      ],
      "metadata": {
        "id": "-kC1Z2pQgql9"
      }
    },
    {
      "cell_type": "code",
      "source": [
        "# Preparing input datasets with the data header and footer filtered \n",
        "\n",
        "spam_train, spam_test = train_test_split(spam_footer_removed, test_size=0.3, random_state=12000)\n",
        "easy_ham_train, easy_ham_test = train_test_split(easy_ham_footer_removed,  test_size=0.3, random_state=12000)\n",
        "\n",
        "#function call \n",
        "acc_MN_easy = run_naiveBayes_MN(easy_ham_train, easy_ham_test, spam_train, spam_test)\n",
        "acc_BN_easy = run_naiveBayes_BN(easy_ham_train, easy_ham_test, spam_train, spam_test)"
      ],
      "metadata": {
        "colab": {
          "base_uri": "https://localhost:8080/",
          "height": 1204
        },
        "id": "1aad8lRcgJBQ",
        "outputId": "af58b93a-8bf0-4869-a04a-09bfc18f7101"
      },
      "execution_count": null,
      "outputs": [
        {
          "output_type": "stream",
          "name": "stdout",
          "text": [
            "the accuracy of training set with MultinomialNB() : 0.9123134328358209\n",
            "the accuracy of testing set with MultinomialNB(): 0.8923913043478261\n",
            "common words:  ['the', 'to', 'com', 'of', 'and', 'list', '3d', 'net']\n",
            "unmmonWords:  ['ibiblio', 'lowers', 'lowkv3dfb', 'lowlifes', 'lows', 'loxokl5jqkykwnncfiygqpruwicolenejit9gb2mwmu0t1m', 'lp1ipymce1y6ywadm1gi', 'lp3betovtcqpchh']\n",
            "              precision    recall  f1-score   support\n",
            "\n",
            "           0       1.00      0.36      0.53       154\n",
            "           1       0.89      1.00      0.94       766\n",
            "\n",
            "    accuracy                           0.89       920\n",
            "   macro avg       0.94      0.68      0.73       920\n",
            "weighted avg       0.90      0.89      0.87       920\n",
            "\n",
            "[[ 55  99]\n",
            " [  0 766]]\n",
            "confusion_matrix using Multinomial Naive Bayes\n"
          ]
        },
        {
          "output_type": "stream",
          "name": "stderr",
          "text": [
            "/usr/local/lib/python3.7/dist-packages/sklearn/utils/deprecation.py:87: FutureWarning: Function plot_confusion_matrix is deprecated; Function `plot_confusion_matrix` is deprecated in 1.0 and will be removed in 1.2. Use one of the class methods: ConfusionMatrixDisplay.from_predictions or ConfusionMatrixDisplay.from_estimator.\n",
            "  warnings.warn(msg, category=FutureWarning)\n"
          ]
        },
        {
          "output_type": "stream",
          "name": "stdout",
          "text": [
            "the accuracy of training set with BernoulliNB() : 0.9146455223880597\n",
            "the accuracy of testing set with BernoulliNB(): 0.8989130434782608\n",
            "common words:  ['the', 'to', 'com', 'of', 'and', 'list', '3d', 'net']\n",
            "unmmonWords:  ['ibiblio', 'lowers', 'lowkv3dfb', 'lowlifes', 'lows', 'loxokl5jqkykwnncfiygqpruwicolenejit9gb2mwmu0t1m', 'lp1ipymce1y6ywadm1gi', 'lp3betovtcqpchh']\n",
            "              precision    recall  f1-score   support\n",
            "\n",
            "           0       0.96      0.42      0.58       154\n",
            "           1       0.89      1.00      0.94       766\n",
            "\n",
            "    accuracy                           0.90       920\n",
            "   macro avg       0.92      0.71      0.76       920\n",
            "weighted avg       0.90      0.90      0.88       920\n",
            "\n",
            "[[ 64  90]\n",
            " [  3 763]]\n",
            "confusion_matrix using Bernoulli Naive Bayes\n"
          ]
        },
        {
          "output_type": "stream",
          "name": "stderr",
          "text": [
            "/usr/local/lib/python3.7/dist-packages/sklearn/utils/deprecation.py:87: FutureWarning: Function plot_confusion_matrix is deprecated; Function `plot_confusion_matrix` is deprecated in 1.0 and will be removed in 1.2. Use one of the class methods: ConfusionMatrixDisplay.from_predictions or ConfusionMatrixDisplay.from_estimator.\n",
            "  warnings.warn(msg, category=FutureWarning)\n"
          ]
        },
        {
          "output_type": "display_data",
          "data": {
            "text/plain": [
              "<Figure size 432x288 with 2 Axes>"
            ],
            "image/png": "[encoded data removed]"
          },
          "metadata": {
            "needs_background": "light"
          }
        },
        {
          "output_type": "display_data",
          "data": {
            "text/plain": [
              "<Figure size 432x288 with 2 Axes>"
            ],
            "image/png": "[encoded data removed]"
          },
          "metadata": {
            "needs_background": "light"
          }
        }
      ]
    },
    {
      "cell_type": "code",
      "source": [
        "# Preparing input datasets with the data header and footer filtered \n",
        "\n",
        "spam_train, spam_test = train_test_split(spam_footer_removed, test_size=0.3, random_state=12000)\n",
        "hard_ham_train, hard_ham_test = train_test_split(hard_ham_footer_removed,  test_size=0.3, random_state=12000)\n",
        "\n",
        "#function call \n",
        "acc_MN_hard = run_naiveBayes_MN(hard_ham_train, hard_ham_test, spam_train, spam_test)\n",
        "acc_BN_hard = run_naiveBayes_BN(hard_ham_train, hard_ham_test, spam_train, spam_test)"
      ],
      "metadata": {
        "colab": {
          "base_uri": "https://localhost:8080/",
          "height": 1204
        },
        "id": "Sw0wpwvJgYNZ",
        "outputId": "918bcbf6-a3cb-4db6-c394-596bdaa8ad9c"
      },
      "execution_count": null,
      "outputs": [
        {
          "output_type": "stream",
          "name": "stdout",
          "text": [
            "the accuracy of training set with MultinomialNB() : 0.8872458410351202\n",
            "the accuracy of testing set with MultinomialNB(): 0.8760683760683761\n",
            "common words:  ['td', 'http', '3d', 'com', 'font', 'width', 'www', 'tr']\n",
            "unmmonWords:  ['infamy', 'mgtvyzhmbybgeebxhq', 'mgtwd4azj8jeyygmfdhwtykdifxahr1fd5sa8icbwyjbm1kioaxbjrvgfw', 'mgvmdg3fek7vfo', 'mha', 'mharward1', 'mhe2ry', 'mhiqexgae9gxq6gnbemwojorcedi1ekzhwgvxtizhjgdf9k3ihgx8lnmxtgz']\n",
            "              precision    recall  f1-score   support\n",
            "\n",
            "           0       0.84      1.00      0.91       154\n",
            "           1       1.00      0.64      0.78        80\n",
            "\n",
            "    accuracy                           0.88       234\n",
            "   macro avg       0.92      0.82      0.85       234\n",
            "weighted avg       0.90      0.88      0.87       234\n",
            "\n",
            "[[154   0]\n",
            " [ 29  51]]\n",
            "confusion_matrix using Multinomial Naive Bayes\n"
          ]
        },
        {
          "output_type": "stream",
          "name": "stderr",
          "text": [
            "/usr/local/lib/python3.7/dist-packages/sklearn/utils/deprecation.py:87: FutureWarning: Function plot_confusion_matrix is deprecated; Function `plot_confusion_matrix` is deprecated in 1.0 and will be removed in 1.2. Use one of the class methods: ConfusionMatrixDisplay.from_predictions or ConfusionMatrixDisplay.from_estimator.\n",
            "  warnings.warn(msg, category=FutureWarning)\n"
          ]
        },
        {
          "output_type": "stream",
          "name": "stdout",
          "text": [
            "the accuracy of training set with BernoulliNB() : 0.8909426987060998\n",
            "the accuracy of testing set with BernoulliNB(): 0.8504273504273504\n",
            "common words:  ['td', 'http', '3d', 'com', 'font', 'width', 'www', 'tr']\n",
            "unmmonWords:  ['infamy', 'mgtvyzhmbybgeebxhq', 'mgtwd4azj8jeyygmfdhwtykdifxahr1fd5sa8icbwyjbm1kioaxbjrvgfw', 'mgvmdg3fek7vfo', 'mha', 'mharward1', 'mhe2ry', 'mhiqexgae9gxq6gnbemwojorcedi1ekzhwgvxtizhjgdf9k3ihgx8lnmxtgz']\n",
            "              precision    recall  f1-score   support\n",
            "\n",
            "           0       0.83      0.97      0.89       154\n",
            "           1       0.91      0.62      0.74        80\n",
            "\n",
            "    accuracy                           0.85       234\n",
            "   macro avg       0.87      0.80      0.82       234\n",
            "weighted avg       0.86      0.85      0.84       234\n",
            "\n",
            "[[149   5]\n",
            " [ 30  50]]\n",
            "confusion_matrix using Bernoulli Naive Bayes\n"
          ]
        },
        {
          "output_type": "stream",
          "name": "stderr",
          "text": [
            "/usr/local/lib/python3.7/dist-packages/sklearn/utils/deprecation.py:87: FutureWarning: Function plot_confusion_matrix is deprecated; Function `plot_confusion_matrix` is deprecated in 1.0 and will be removed in 1.2. Use one of the class methods: ConfusionMatrixDisplay.from_predictions or ConfusionMatrixDisplay.from_estimator.\n",
            "  warnings.warn(msg, category=FutureWarning)\n"
          ]
        },
        {
          "output_type": "display_data",
          "data": {
            "text/plain": [
              "<Figure size 432x288 with 2 Axes>"
            ],
            "image/png": "[encoded data removed]"
          },
          "metadata": {
            "needs_background": "light"
          }
        },
        {
          "output_type": "display_data",
          "data": {
            "text/plain": [
              "<Figure size 432x288 with 2 Axes>"
            ],
            "image/png": "[encoded data removed]"
          },
          "metadata": {
            "needs_background": "light"
          }
        }
      ]
    },
    {
      "cell_type": "markdown",
      "source": [
        "**The resulit from 4 with the data header and footer filtered **"
      ],
      "metadata": {
        "id": "BQPP0kIOgsEO"
      }
    },
    {
      "cell_type": "code",
      "source": [
        "\n",
        "#function call \n",
        "print(\"<spam vs easy ham> with filter of common/uncommon words\")\n",
        "\n",
        "acc_MN_easy_filtered = run_naiveBayes_MN_filtered(easy_ham_train, easy_ham_test, spam_train, spam_test)\n",
        "acc_BN_easy_filtered = run_naiveBayes_BN_filtered(easy_ham_train, easy_ham_test, spam_train, spam_test)"
      ],
      "metadata": {
        "colab": {
          "base_uri": "https://localhost:8080/",
          "height": 1150
        },
        "id": "uMD6Ms80gmea",
        "outputId": "e4ad1eb5-41a4-46fb-c857-5cac0ebdcdc9"
      },
      "execution_count": null,
      "outputs": [
        {
          "output_type": "stream",
          "name": "stdout",
          "text": [
            "<spam vs easy ham> with filter of common/uncommon words\n",
            "the accuracy of training set with MultinomialNB() : 0.9841417910447762\n",
            "the accuracy of testing set with MultinomialNB(): 0.9782608695652174\n",
            "              precision    recall  f1-score   support\n",
            "\n",
            "           0       0.98      0.89      0.93       154\n",
            "           1       0.98      1.00      0.99       766\n",
            "\n",
            "    accuracy                           0.98       920\n",
            "   macro avg       0.98      0.94      0.96       920\n",
            "weighted avg       0.98      0.98      0.98       920\n",
            "\n",
            "[[137  17]\n",
            " [  3 763]]\n",
            "confusion_matrix using Multinomial Naive Bayes and filter common/uncommon words\n"
          ]
        },
        {
          "output_type": "stream",
          "name": "stderr",
          "text": [
            "/usr/local/lib/python3.7/dist-packages/sklearn/utils/deprecation.py:87: FutureWarning: Function plot_confusion_matrix is deprecated; Function `plot_confusion_matrix` is deprecated in 1.0 and will be removed in 1.2. Use one of the class methods: ConfusionMatrixDisplay.from_predictions or ConfusionMatrixDisplay.from_estimator.\n",
            "  warnings.warn(msg, category=FutureWarning)\n"
          ]
        },
        {
          "output_type": "stream",
          "name": "stdout",
          "text": [
            "the accuracy of training set with BernoulliNB() : 0.9617537313432836\n",
            "the accuracy of testing set with BernoulliNB(): 0.9510869565217391\n",
            "              precision    recall  f1-score   support\n",
            "\n",
            "           0       0.86      0.84      0.85       154\n",
            "           1       0.97      0.97      0.97       766\n",
            "\n",
            "    accuracy                           0.95       920\n",
            "   macro avg       0.91      0.91      0.91       920\n",
            "weighted avg       0.95      0.95      0.95       920\n",
            "\n",
            "[[130  24]\n",
            " [ 21 745]]\n",
            "confusion_matrix using Bernoulli Naive Bayes and filter common/uncommon words\n"
          ]
        },
        {
          "output_type": "stream",
          "name": "stderr",
          "text": [
            "/usr/local/lib/python3.7/dist-packages/sklearn/utils/deprecation.py:87: FutureWarning: Function plot_confusion_matrix is deprecated; Function `plot_confusion_matrix` is deprecated in 1.0 and will be removed in 1.2. Use one of the class methods: ConfusionMatrixDisplay.from_predictions or ConfusionMatrixDisplay.from_estimator.\n",
            "  warnings.warn(msg, category=FutureWarning)\n"
          ]
        },
        {
          "output_type": "display_data",
          "data": {
            "text/plain": [
              "<Figure size 432x288 with 2 Axes>"
            ],
            "image/png": "[encoded data removed]"
          },
          "metadata": {
            "needs_background": "light"
          }
        },
        {
          "output_type": "display_data",
          "data": {
            "text/plain": [
              "<Figure size 432x288 with 2 Axes>"
            ],
            "image/png": "[encoded data removed]"
          },
          "metadata": {
            "needs_background": "light"
          }
        }
      ]
    },
    {
      "cell_type": "code",
      "source": [
        "#function call \n",
        "print(\"<spam vs hard ham with filter of common/uncommon words>\")\n",
        "acc_MN_hard_filtered = run_naiveBayes_MN_filtered(hard_ham_train, hard_ham_test, spam_train, spam_test)\n",
        "acc_BN_hard_filtered = run_naiveBayes_BN_filtered(hard_ham_train, hard_ham_test, spam_train, spam_test)"
      ],
      "metadata": {
        "colab": {
          "base_uri": "https://localhost:8080/",
          "height": 1150
        },
        "id": "Ceh3lsFhha5D",
        "outputId": "fdbbcfc0-cf3f-418e-c1f4-8cb7325d1e6e"
      },
      "execution_count": null,
      "outputs": [
        {
          "output_type": "stream",
          "name": "stdout",
          "text": [
            "<spam vs hard ham with filter of common/uncommon words>\n",
            "the accuracy of training set with MultinomialNB() : 0.9685767097966729\n",
            "the accuracy of testing set with MultinomialNB(): 0.9358974358974359\n",
            "              precision    recall  f1-score   support\n",
            "\n",
            "           0       0.91      1.00      0.95       154\n",
            "           1       1.00      0.81      0.90        80\n",
            "\n",
            "    accuracy                           0.94       234\n",
            "   macro avg       0.96      0.91      0.93       234\n",
            "weighted avg       0.94      0.94      0.93       234\n",
            "\n",
            "[[154   0]\n",
            " [ 15  65]]\n",
            "confusion_matrix using Multinomial Naive Bayes and filter common/uncommon words\n"
          ]
        },
        {
          "output_type": "stream",
          "name": "stderr",
          "text": [
            "/usr/local/lib/python3.7/dist-packages/sklearn/utils/deprecation.py:87: FutureWarning: Function plot_confusion_matrix is deprecated; Function `plot_confusion_matrix` is deprecated in 1.0 and will be removed in 1.2. Use one of the class methods: ConfusionMatrixDisplay.from_predictions or ConfusionMatrixDisplay.from_estimator.\n",
            "  warnings.warn(msg, category=FutureWarning)\n"
          ]
        },
        {
          "output_type": "stream",
          "name": "stdout",
          "text": [
            "the accuracy of training set with BernoulliNB() : 0.8853974121996303\n",
            "the accuracy of testing set with BernoulliNB(): 0.8376068376068376\n",
            "              precision    recall  f1-score   support\n",
            "\n",
            "           0       0.82      0.97      0.89       154\n",
            "           1       0.90      0.59      0.71        80\n",
            "\n",
            "    accuracy                           0.84       234\n",
            "   macro avg       0.86      0.78      0.80       234\n",
            "weighted avg       0.85      0.84      0.83       234\n",
            "\n",
            "[[149   5]\n",
            " [ 33  47]]\n",
            "confusion_matrix using Bernoulli Naive Bayes and filter common/uncommon words\n"
          ]
        },
        {
          "output_type": "stream",
          "name": "stderr",
          "text": [
            "/usr/local/lib/python3.7/dist-packages/sklearn/utils/deprecation.py:87: FutureWarning: Function plot_confusion_matrix is deprecated; Function `plot_confusion_matrix` is deprecated in 1.0 and will be removed in 1.2. Use one of the class methods: ConfusionMatrixDisplay.from_predictions or ConfusionMatrixDisplay.from_estimator.\n",
            "  warnings.warn(msg, category=FutureWarning)\n"
          ]
        },
        {
          "output_type": "display_data",
          "data": {
            "text/plain": [
              "<Figure size 432x288 with 2 Axes>"
            ],
            "image/png": "[encoded data removed]"
          },
          "metadata": {
            "needs_background": "light"
          }
        },
        {
          "output_type": "display_data",
          "data": {
            "text/plain": [
              "<Figure size 432x288 with 2 Axes>"
            ],
            "image/png": "[encoded data removed]"
          },
          "metadata": {
            "needs_background": "light"
          }
        }
      ]
    },
    {
      "cell_type": "markdown",
      "source": [
        "# B.  \n",
        "The split of the data set into a training set and a test set can lead to very skewed results. Why is this, and do you have suggestions on remedies?\n",
        "\n",
        "Given datasets, as I mentioned in task 1, there is a big difference in the number of emails in each of the categories (easy_ham : 2553, hard_ham : 264 \n",
        ", spam: 511) We did not calibrate data here and this difference in data may lead models to be biased to the majority labels. For example, in our case classification dataset if the ham is present in 85% of the data so the learned model could simply predict the ham class which is the majority, irrespective of the features. There are several remedies to reduce the skewed problem. \n",
        "\n",
        "- Upsampling or Downsampling the dataset to make the representation of the classes equally. for downsampling, it's better to select randomly 500 spam and 500 non-spam for training for example. \n",
        "\n",
        "- Using training algorithms that attach weights according to the frequency of the labels using tree-based algorithms.\n",
        "\n",
        "- Calibration of the models also helps training after training could also help.\n",
        "\n",
        "Moreover, there is an idea of splitting in the first place. Even though there is no optimal percentage of train and training sets and depends on the characteristics of the model. If there is less training data, then the model will have a high variance in training. If there is less testing data, then the model evaluation can be unstable that is having high variance. \n",
        "\n",
        "#C.  \n",
        "\n",
        "What do you expect would happen if your training set were mostly spam messages while your test set were mostly ham messages?\n",
        "\n",
        "-> If the training set and test set are inherently imbalanced, the classification might work badly. The quality of the training data is really important to improve the model performance. In addition, the machine learning algorithms are sensitive to the training data, even small variations or imbalances in the training set can lead to a significantly bad result in the model performance. For example, if in the training set were mostly spam messages, simply guessing it's spam without proper classification has high accuracy. Therefore, we shouldn’t rely on accuracy to evaluate the classification and check the F1 score as well. That's because Machine learning algorithms might perform poorly for the smaller classes for example ham messages in training set in this example. There are several potential solutions such as class weights in the learning algorithm, upsampling/downsampling of the data, and data augmentation to generate instances of the rare classes. "
      ],
      "metadata": {
        "id": "lFUQZ1eJguvU"
      }
    }
  ]
}